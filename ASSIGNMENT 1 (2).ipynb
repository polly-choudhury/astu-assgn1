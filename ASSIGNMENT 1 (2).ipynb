{
 "cells": [
  {
   "cell_type": "markdown",
   "metadata": {},
   "source": [
    "<b>Assignment for week 1 by Poly Choudhury(170810107039)<b>"
   ]
  },
  {
   "cell_type": "code",
   "execution_count": 1,
   "metadata": {},
   "outputs": [],
   "source": [
    "#The required packages are imported\n",
    "import pandas as pd\n",
    "import numpy as np\n",
    "import matplotlib.pyplot as plt\n",
    "from sklearn.decomposition import PCA\n",
    "from sklearn.preprocessing import StandardScaler"
   ]
  },
  {
   "cell_type": "markdown",
   "metadata": {},
   "source": [
    "<b>Load and preprocess Data<b>"
   ]
  },
  {
   "cell_type": "code",
   "execution_count": 2,
   "metadata": {},
   "outputs": [
    {
     "data": {
      "text/plain": [
       "(8041, 35)"
      ]
     },
     "execution_count": 2,
     "metadata": {},
     "output_type": "execute_result"
    }
   ],
   "source": [
    "#The dataset is loaded\n",
    "df = pd.read_csv('PCA_practice_dataset.csv')\n",
    "df.head()\n",
    "X = df.to_numpy() #The data is converted to numpy\n",
    "X.shape"
   ]
  },
  {
   "cell_type": "code",
   "execution_count": 3,
   "metadata": {},
   "outputs": [],
   "source": [
    "#We need to scale the data with mean = 0 and standard deviation = 1 before applying PCA\n",
    "scalar = StandardScaler()\n",
    "X = scalar.fit_transform(X)"
   ]
  },
  {
   "cell_type": "markdown",
   "metadata": {},
   "source": [
    "<b>Applying PCA<b>"
   ]
  },
  {
   "cell_type": "code",
   "execution_count": 4,
   "metadata": {},
   "outputs": [],
   "source": [
    "#Applying PCA\n",
    "pca = PCA()\n",
    "X = pca.fit_transform(X)"
   ]
  },
  {
   "cell_type": "code",
   "execution_count": 6,
   "metadata": {},
   "outputs": [],
   "source": [
    "#Getting a sum of all the eigen values for the corresponding eigen vectors\n",
    "cumulative_variance = np.cumsum(pca.explained_variance_ratio_)*100"
   ]
  },
  {
   "cell_type": "code",
   "execution_count": 7,
   "metadata": {},
   "outputs": [],
   "source": [
    "#Declaring a list of the desired thresholds\n",
    "thresholds = [i for i in range(90,97+1,1)]"
   ]
  },
  {
   "cell_type": "code",
   "execution_count": 8,
   "metadata": {},
   "outputs": [
    {
     "name": "stdout",
     "output_type": "stream",
     "text": [
      "Components required for 90% threshold are : 2\n",
      "Components required for 91% threshold are : 2\n",
      "Components required for 92% threshold are : 3\n",
      "Components required for 93% threshold are : 3\n",
      "Components required for 94% threshold are : 4\n",
      "Components required for 95% threshold are : 4\n",
      "Components required for 96% threshold are : 5\n",
      "Components required for 97% threshold are : 6\n"
     ]
    }
   ],
   "source": [
    "#Making a list of the components required to retain the varience as mentioned in our required threshold list\n",
    "components = [np.argmax(cumulative_variance>threshold)for threshold in thresholds]\n",
    "\n",
    "for component, threshold in zip(components, thresholds):\n",
    "    print(\"Components required for {}% threshold are : {}\".format(threshold,component))"
   ]
  },
  {
   "cell_type": "markdown",
   "metadata": {},
   "source": [
    "<b>Scree plot<b>"
   ]
  },
  {
   "cell_type": "code",
   "execution_count": 10,
   "metadata": {},
   "outputs": [
    {
     "data": {
      "image/png": "[encoded data removed]",
      "text/plain": [
       "<Figure size 432x288 with 1 Axes>"
      ]
     },
     "metadata": {
      "needs_background": "light"
     },
     "output_type": "display_data"
    }
   ],
   "source": [
    "#Plotting these data in the form of a scree plot\n",
    "plt.plot(components, range(90,97+1,1), 'ro-', linewidth=2)\n",
    "plt.title('Scree Plot')\n",
    "plt.xlabel('Principal Component')\n",
    "plt.ylabel('Threshold in %')\n",
    "plt.show()"
   ]
  },
  {
   "cell_type": "markdown",
   "metadata": {},
   "source": [
    "<b>Dimensionality reduction<b>"
   ]
  },
  {
   "cell_type": "code",
   "execution_count": 11,
   "metadata": {},
   "outputs": [
    {
     "name": "stdout",
     "output_type": "stream",
     "text": [
      "Performing dimensionality reduction to retain 90% threshold\n",
      "After dimensionality reduction, the new shape to the dataset is : (8041, 2)\n",
      "\n",
      "\n",
      "Performing dimensionality reduction to retain 91% threshold\n",
      "After dimensionality reduction, the new shape to the dataset is : (8041, 2)\n",
      "\n",
      "\n",
      "Performing dimensionality reduction to retain 92% threshold\n",
      "After dimensionality reduction, the new shape to the dataset is : (8041, 3)\n",
      "\n",
      "\n",
      "Performing dimensionality reduction to retain 93% threshold\n",
      "After dimensionality reduction, the new shape to the dataset is : (8041, 3)\n",
      "\n",
      "\n",
      "Performing dimensionality reduction to retain 94% threshold\n",
      "After dimensionality reduction, the new shape to the dataset is : (8041, 4)\n",
      "\n",
      "\n",
      "Performing dimensionality reduction to retain 95% threshold\n",
      "After dimensionality reduction, the new shape to the dataset is : (8041, 4)\n",
      "\n",
      "\n",
      "Performing dimensionality reduction to retain 96% threshold\n",
      "After dimensionality reduction, the new shape to the dataset is : (8041, 5)\n",
      "\n",
      "\n",
      "Performing dimensionality reduction to retain 97% threshold\n",
      "After dimensionality reduction, the new shape to the dataset is : (8041, 6)\n",
      "\n",
      "\n"
     ]
    }
   ],
   "source": [
    "#Performing dimensionality reduction\n",
    "X_orig = X\n",
    "\n",
    "for component,var in zip(components,thresholds):\n",
    "    pca = PCA(n_components = component) #Passing the number of components required for each threshold\n",
    "    X_transformed = pca.fit_transform(X_orig)  #We get the reduced dimensionality dataset\n",
    "    print('Performing dimensionality reduction to retain {}% threshold'.format(var))\n",
    "    print('After dimensionality reduction, the new shape to the dataset is :',X_transformed.shape)\n",
    "    print('\\n')"
   ]
  },
  {
   "cell_type": "code",
   "execution_count": null,
   "metadata": {},
   "outputs": [],
   "source": []
  }
 ],
 "metadata": {
  "kernelspec": {
   "display_name": "Python 3",
   "language": "python",
   "name": "python3"
  },
  "language_info": {
   "codemirror_mode": {
    "name": "ipython",
    "version": 3
   },
   "file_extension": ".py",
   "mimetype": "text/x-python",
   "name": "python",
   "nbconvert_exporter": "python",
   "pygments_lexer": "ipython3",
   "version": "3.8.3"
  }
 },
 "nbformat": 4,
 "nbformat_minor": 4
}
